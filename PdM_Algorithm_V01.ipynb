{
  "nbformat": 4,
  "nbformat_minor": 0,
  "metadata": {
    "colab": {
      "name": "PdM Algorithm V01.ipynb",
      "provenance": [],
      "collapsed_sections": [],
      "authorship_tag": "ABX9TyOAF9OqV6tqYI8ONJOhgf7k",
      "include_colab_link": true
    },
    "kernelspec": {
      "name": "python3",
      "display_name": "Python 3"
    },
    "language_info": {
      "name": "python"
    }
  },
  "cells": [
    {
      "cell_type": "markdown",
      "metadata": {
        "id": "view-in-github",
        "colab_type": "text"
      },
      "source": [
        "<a href=\"https://colab.research.google.com/github/prem55gayakwad/BT_eth_sender/blob/main/PdM_Algorithm_V01.ipynb\" target=\"_parent\"><img src=\"https://colab.research.google.com/assets/colab-badge.svg\" alt=\"Open In Colab\"/></a>"
      ]
    },
    {
      "cell_type": "code",
      "metadata": {
        "colab": {
          "base_uri": "https://localhost:8080/",
          "height": 269
        },
        "id": "lz3oRs89J5mG",
        "outputId": "fa8106e6-7d4b-4fa1-e466-dbed514b1773"
      },
      "source": [
        "import numpy as np\n",
        "import matplotlib.pyplot as plt\n"
      ],
      "execution_count": 44,
      "outputs": [
        {
          "output_type": "display_data",
          "data": {
            "image/png": "[encoded data removed]",
            "text/plain": [
              "<Figure size 432x288 with 1 Axes>"
            ]
          },
          "metadata": {
            "needs_background": "light"
          }
        }
      ]
    },
    {
      "cell_type": "code",
      "metadata": {
        "id": "LgByLjO_NcXB"
      },
      "source": [
        "# Enter Limit values (user input and plot)\n",
        "max = input(\"Enter username:\")\n",
        "print(\"Username is: \" + max)\n",
        "max1 = input(\"Enter username:\")\n",
        "print(\"Username is: \" + max1)\n",
        "\n",
        "\n",
        "plt.axhline(y=max14, color=\"red\", linestyle=\":\")\n",
        "plt.axhline(y=max, color=\"black\", linestyle=\":\")\n",
        "plt.show()"
      ],
      "execution_count": null,
      "outputs": []
    },
    {
      "cell_type": "code",
      "metadata": {
        "id": "SxC5uAY2PCg4"
      },
      "source": [
        ""
      ],
      "execution_count": null,
      "outputs": []
    }
  ]
}
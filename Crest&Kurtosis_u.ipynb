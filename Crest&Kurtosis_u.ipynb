{
  "nbformat": 4,
  "nbformat_minor": 0,
  "metadata": {
    "colab": {
      "name": "Crest&Kurtosis_u.ipynb",
      "provenance": [],
      "collapsed_sections": [],
      "authorship_tag": "ABX9TyOoT82o66Yted/DClA1LWvf",
      "include_colab_link": true
    },
    "kernelspec": {
      "name": "python3",
      "display_name": "Python 3"
    },
    "language_info": {
      "name": "python"
    },
    "accelerator": "GPU"
  },
  "cells": [
    {
      "cell_type": "markdown",
      "metadata": {
        "id": "view-in-github",
        "colab_type": "text"
      },
      "source": [
        "<a href=\"https://colab.research.google.com/github/prem55gayakwad/BT_eth_sender/blob/master/Crest%26Kurtosis_u.ipynb\" target=\"_parent\"><img src=\"https://colab.research.google.com/assets/colab-badge.svg\" alt=\"Open In Colab\"/></a>"
      ]
    },
    {
      "cell_type": "code",
      "metadata": {
        "id": "zSOle1_pxFT1"
      },
      "source": [
        "# Load the Pandas libraries with alias 'pd' \n",
        "import pandas as pd \n",
        "import numpy as np\n",
        "# Read data from file 'filename.csv' \n",
        "data = pd.read_csv(\"blob6_u.csv\") \n",
        "# Preview the first 5 lines of the loaded data \n",
        "amp=data['amp']\n",
        "time= data['t']"
      ],
      "execution_count": 45,
      "outputs": []
    },
    {
      "cell_type": "code",
      "metadata": {
        "colab": {
          "base_uri": "https://localhost:8080/"
        },
        "id": "5Vbv65lH0KSf",
        "outputId": "75ccd14e-b830-466b-b097-58ebbd44fad4"
      },
      "source": [
        "import math\n",
        "data_crest = (math.sqrt(2) * amp)\n",
        "max_value = np.max(data_crest)\n",
        "max_value\n"
      ],
      "execution_count": 37,
      "outputs": [
        {
          "output_type": "execute_result",
          "data": {
            "text/plain": [
              "53193503.443544105"
            ]
          },
          "metadata": {},
          "execution_count": 37
        }
      ]
    },
    {
      "cell_type": "code",
      "metadata": {
        "colab": {
          "base_uri": "https://localhost:8080/",
          "height": 295
        },
        "id": "-4vnWH2g0xQF",
        "outputId": "fc8c4f3f-034c-4280-b8dc-0a69b3facaa9"
      },
      "source": [
        "\n",
        "# importing the required module\n",
        "import matplotlib.pyplot as plt\n",
        "  \n",
        "# x axis values\n",
        "x = time[0:500]\n",
        "# corresponding y axis values\n",
        "y = amp[0:500]\n",
        "  \n",
        "# plotting the points \n",
        "plt.plot(x, y)\n",
        "  \n",
        "# naming the x axis\n",
        "plt.xlabel('value')\n",
        "# naming the y axis\n",
        "plt.ylabel('crest factor')\n",
        "  \n",
        "# giving a title to my graph\n",
        "plt.title('Crest factor graph')\n",
        "  \n",
        "# function to show the plot\n",
        "plt.show()"
      ],
      "execution_count": 47,
      "outputs": [
        {
          "output_type": "display_data",
          "data": {
            "image/png": "[encoded data removed]",
            "text/plain": [
              "<Figure size 432x288 with 1 Axes>"
            ]
          },
          "metadata": {
            "needs_background": "light"
          }
        }
      ]
    }
  ]
}
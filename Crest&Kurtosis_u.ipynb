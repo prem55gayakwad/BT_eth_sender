{
  "nbformat": 4,
  "nbformat_minor": 0,
  "metadata": {
    "colab": {
      "name": "Crest&Kurtosis_u.ipynb",
      "provenance": [],
      "collapsed_sections": [],
      "authorship_tag": "ABX9TyNjDLi33y2/X7QTHTO79EQT",
      "include_colab_link": true
    },
    "kernelspec": {
      "name": "python3",
      "display_name": "Python 3"
    },
    "language_info": {
      "name": "python"
    },
    "accelerator": "GPU"
  },
  "cells": [
    {
      "cell_type": "markdown",
      "metadata": {
        "id": "view-in-github",
        "colab_type": "text"
      },
      "source": [
        "<a href=\"https://colab.research.google.com/github/prem55gayakwad/BT_eth_sender/blob/master/Crest%26Kurtosis_u.ipynb\" target=\"_parent\"><img src=\"https://colab.research.google.com/assets/colab-badge.svg\" alt=\"Open In Colab\"/></a>"
      ]
    },
    {
      "cell_type": "code",
      "metadata": {
        "id": "zSOle1_pxFT1"
      },
      "source": [
        "# Load the Pandas libraries with alias 'pd' \n",
        "import pandas as pd \n",
        "import numpy as np\n",
        "# Read data from file 'filename.csv' \n",
        "data = pd.read_csv(\"blob6_u.csv\") \n",
        "# Preview the first 5 lines of the loaded data \n",
        "amp=data['amp']\n",
        "time= data['t']"
      ],
      "execution_count": 39,
      "outputs": []
    },
    {
      "cell_type": "code",
      "metadata": {
        "colab": {
          "base_uri": "https://localhost:8080/"
        },
        "id": "5Vbv65lH0KSf",
        "outputId": "c9352157-ee2c-43de-d139-c3dc94e2a963"
      },
      "source": [
        "import math\n",
        "data_crest = (math.sqrt(2) * amp)\n",
        "max_value = np.max(data_crest)\n",
        "max_value\n"
      ],
      "execution_count": 29,
      "outputs": [
        {
          "output_type": "execute_result",
          "data": {
            "text/plain": [
              "53193503.443544105"
            ]
          },
          "metadata": {},
          "execution_count": 29
        }
      ]
    },
    {
      "cell_type": "code",
      "metadata": {
        "colab": {
          "base_uri": "https://localhost:8080/",
          "height": 299
        },
        "id": "-4vnWH2g0xQF",
        "outputId": "5e6257f4-1b92-4c1d-fdde-7bec61a7d9a8"
      },
      "source": [
        "\n",
        "# importing the required module\n",
        "import matplotlib.pyplot as plt\n",
        "  \n",
        "# x axis values\n",
        "x = time[0:500]\n",
        "# corresponding y axis values\n",
        "y = amp[0:500]\n",
        "  \n",
        "# plotting the points \n",
        "plt.plot(x, y)\n",
        "  \n",
        "# naming the x axis\n",
        "plt.xlabel('value')\n",
        "# naming the y axis\n",
        "plt.ylabel('crest factor')\n",
        "  \n",
        "# giving a title to my graph\n",
        "plt.title('Crest factor graph')\n",
        "\n",
        "# function to show the plot\n",
        "plt.show()"
      ],
      "execution_count": 32,
      "outputs": [
        {
          "output_type": "display_data",
          "data": {
            "image/png": "[encoded data removed]",
            "text/plain": [
              "<Figure size 432x288 with 1 Axes>"
            ]
          },
          "metadata": {}
        }
      ]
    },
    {
      "cell_type": "code",
      "metadata": {
        "colab": {
          "base_uri": "https://localhost:8080/"
        },
        "id": "nrfJLEPFJdsU",
        "outputId": "f6f6cd3b-5dd7-4961-c6e2-f28c3d3c7e08"
      },
      "source": [
        "#import pandas library\n",
        "import pandas as pd\n",
        "from scipy.stats import kurtosis\n",
        "import matplotlib.pyplot as plt\n",
        "\n",
        "plt.style.use('ggplot')\n",
        "#creating data frame\n",
        "df=pd.DataFrame(data)\n",
        "\n",
        "np.var(df)\n",
        "#calculating the kurtosis\n",
        "print(df.kurtosis())\n"
      ],
      "execution_count": 37,
      "outputs": [
        {
          "output_type": "stream",
          "text": [
            "amp    25000.996763\n",
            "dtype: float64\n"
          ],
          "name": "stdout"
        }
      ]
    },
    {
      "cell_type": "code",
      "metadata": {
        "colab": {
          "base_uri": "https://localhost:8080/",
          "height": 346
        },
        "id": "yyg5S5V4bZVY",
        "outputId": "69ada067-a2f5-40a5-c216-edd2fb2086e8"
      },
      "source": [
        "%matplotlib inline\n",
        "import numpy as np\n",
        "import pandas as pd\n",
        "from scipy.stats import kurtosis\n",
        "from scipy.stats import skew\n",
        "\n",
        "import matplotlib.pyplot as plt\n",
        "\n",
        "plt.style.use('ggplot')\n",
        "\n",
        "\n",
        "np.var(amp)\n",
        "\n",
        "plt.hist(amp, bins=60)\n",
        "\n",
        "print(\"mean : \", np.mean(amp))\n",
        "print(\"var  : \", np.var(amp))\n",
        "print(\"skew : \",skew(amp))\n",
        "print(\"kurt : \",kurtosis(amp))"
      ],
      "execution_count": 40,
      "outputs": [
        {
          "output_type": "stream",
          "text": [
            "mean :  1498.6873178152441\n",
            "var  :  56586470256.22316\n",
            "skew :  158.10754310030157\n",
            "kurt :  24995.99680358778\n"
          ],
          "name": "stdout"
        },
        {
          "output_type": "display_data",
          "data": {
            "image/png": "[encoded data removed]",
            "text/plain": [
              "<Figure size 432x288 with 1 Axes>"
            ]
          },
          "metadata": {}
        }
      ]
    },
    {
      "cell_type": "code",
      "metadata": {
        "id": "BKPJgN78Pf0K"
      },
      "source": [
        ""
      ],
      "execution_count": null,
      "outputs": []
    }
  ]
}
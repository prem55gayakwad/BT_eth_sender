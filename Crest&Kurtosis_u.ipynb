{
  "nbformat": 4,
  "nbformat_minor": 0,
  "metadata": {
    "colab": {
      "name": "Crest&Kurtosis_u.ipynb",
      "provenance": [],
      "collapsed_sections": [],
      "authorship_tag": "ABX9TyOrdHq2M6c7Z90OcnPePd2/",
      "include_colab_link": true
    },
    "kernelspec": {
      "name": "python3",
      "display_name": "Python 3"
    },
    "language_info": {
      "name": "python"
    },
    "accelerator": "GPU"
  },
  "cells": [
    {
      "cell_type": "markdown",
      "metadata": {
        "id": "view-in-github",
        "colab_type": "text"
      },
      "source": [
        "<a href=\"https://colab.research.google.com/github/prem55gayakwad/BT_eth_sender/blob/master/Crest%26Kurtosis_u.ipynb\" target=\"_parent\"><img src=\"https://colab.research.google.com/assets/colab-badge.svg\" alt=\"Open In Colab\"/></a>"
      ]
    },
    {
      "cell_type": "code",
      "metadata": {
        "id": "zSOle1_pxFT1"
      },
      "source": [
        "# Load the Pandas libraries with alias 'pd' \n",
        "import pandas as pd \n",
        "import numpy as np\n",
        "# Read data from file 'filename.csv' \n",
        "data = pd.read_csv(\"blob6_u.csv\") \n",
        "# Preview the first 5 lines of the loaded data \n",
        "amp=data['amp']\n",
        "time= data['t']\n"
      ],
      "execution_count": 38,
      "outputs": []
    },
    {
      "cell_type": "code",
      "metadata": {
        "colab": {
          "base_uri": "https://localhost:8080/"
        },
        "id": "5Vbv65lH0KSf",
        "outputId": "f4fa7e33-eb67-4c88-f251-fb26e9f43b61"
      },
      "source": [
        "import math\n",
        "data_crest = (math.sqrt(2) * amp)\n",
        "max_value = np.max(data_crest)\n",
        "\n",
        "data_crest"
      ],
      "execution_count": 39,
      "outputs": [
        {
          "output_type": "execute_result",
          "data": {
            "text/plain": [
              "0     -10.789758\n",
              "1      -5.179084\n",
              "2      -3.021132\n",
              "3      -7.768626\n",
              "4     -18.558384\n",
              "5     -30.211322\n",
              "6     -36.253586\n",
              "7     -33.664043\n",
              "8     -28.053369\n",
              "9     -26.758598\n",
              "10    -28.484960\n",
              "11    -28.916550\n",
              "12    -24.169056\n",
              "13    -17.695203\n",
              "14    -14.674071\n",
              "15    -15.968841\n",
              "16    -20.716335\n",
              "17    -23.305877\n",
              "18    -23.305877\n",
              "19    -23.737467\n",
              "20    -27.621779\n",
              "21    -22.874286\n",
              "22    -21.147925\n",
              "23    -18.989973\n",
              "24    -18.558384\n",
              "25    -21.579516\n",
              "26    -25.032237\n",
              "27    -25.032237\n",
              "28    -22.011106\n",
              "29    -18.989973\n",
              "30    -18.558384\n",
              "31    -20.284744\n",
              "32    -22.874286\n",
              "33    -22.874286\n",
              "34    -18.126793\n",
              "35     -4.315903\n",
              "36     31.506092\n",
              "37    107.034394\n",
              "38    210.616075\n",
              "39    293.481402\n",
              "40    308.155487\n",
              "41    240.395805\n",
              "42    132.929817\n",
              "43     40.137899\n",
              "44     -9.063397\n",
              "45    -21.579516\n",
              "46    -18.989973\n",
              "47    -17.263612\n",
              "48    -18.989973\n",
              "Name: amp, dtype: float64"
            ]
          },
          "metadata": {},
          "execution_count": 39
        }
      ]
    },
    {
      "cell_type": "code",
      "metadata": {
        "colab": {
          "base_uri": "https://localhost:8080/",
          "height": 299
        },
        "id": "-4vnWH2g0xQF",
        "outputId": "a28b2e17-3979-47fa-f4dd-4e6f4def201e"
      },
      "source": [
        "\n",
        "# importing the required module\n",
        "import matplotlib.pyplot as plt\n",
        "  \n",
        "# x axis values\n",
        "x = time[0:500]\n",
        "# corresponding y axis values\n",
        "y = amp[0:500]\n",
        "  \n",
        "# plotting the points \n",
        "plt.plot(time, data_crest)\n",
        "  \n",
        "# naming the x axis\n",
        "plt.xlabel('value')\n",
        "# naming the y axis\n",
        "plt.ylabel('crest factor')\n",
        "  \n",
        "# giving a title to my graph\n",
        "plt.title('Crest factor graph')\n",
        "\n",
        "# function to show the plot\n",
        "plt.show()"
      ],
      "execution_count": 40,
      "outputs": [
        {
          "output_type": "display_data",
          "data": {
            "image/png": "[encoded data removed]",
            "text/plain": [
              "<Figure size 432x288 with 1 Axes>"
            ]
          },
          "metadata": {}
        }
      ]
    },
    {
      "cell_type": "code",
      "metadata": {
        "colab": {
          "base_uri": "https://localhost:8080/"
        },
        "id": "nrfJLEPFJdsU",
        "outputId": "553aadb6-054d-4c57-adf9-a6298e207dd4"
      },
      "source": [
        "#import pandas library\n",
        "import pandas as pd\n",
        "from scipy.stats import kurtosis\n",
        "import matplotlib.pyplot as plt\n",
        "\n",
        "plt.style.use('ggplot')\n",
        "#creating data frame\n",
        "df=pd.DataFrame(data)\n",
        "\n",
        "np.var(df)\n",
        "#calculating the kurtosis\n",
        "print(df.kurtosis())\n"
      ],
      "execution_count": 41,
      "outputs": [
        {
          "output_type": "stream",
          "text": [
            "t     -1.200000\n",
            "amp    6.350292\n",
            "dtype: float64\n"
          ],
          "name": "stdout"
        }
      ]
    },
    {
      "cell_type": "code",
      "metadata": {
        "colab": {
          "base_uri": "https://localhost:8080/",
          "height": 588
        },
        "id": "yyg5S5V4bZVY",
        "outputId": "b5f985f5-118d-423c-eaa8-9f2e4ddb00f3"
      },
      "source": [
        "%matplotlib inline\n",
        "import numpy as np\n",
        "import pandas as pd\n",
        "from scipy.stats import kurtosis\n",
        "from scipy.stats import skew\n",
        "\n",
        "import matplotlib.pyplot as plt\n",
        "\n",
        "plt.style.use('ggplot')\n",
        "\n",
        "np.var(amp)\n",
        "\n",
        "print(\"kurtosis : \",kurtosis(amp))\n",
        "plt.hist(kurtosis(amp), bins=60)"
      ],
      "execution_count": 42,
      "outputs": [
        {
          "output_type": "stream",
          "text": [
            "kurtosis :  5.600554338499654\n"
          ],
          "name": "stdout"
        },
        {
          "output_type": "execute_result",
          "data": {
            "text/plain": [
              "(array([0., 0., 0., 0., 0., 0., 0., 0., 0., 0., 0., 0., 0., 0., 0., 0., 0.,\n",
              "        0., 0., 0., 0., 0., 0., 0., 0., 0., 0., 0., 0., 0., 1., 0., 0., 0.,\n",
              "        0., 0., 0., 0., 0., 0., 0., 0., 0., 0., 0., 0., 0., 0., 0., 0., 0.,\n",
              "        0., 0., 0., 0., 0., 0., 0., 0., 0.]),\n",
              " array([5.10055434, 5.11722101, 5.13388767, 5.15055434, 5.16722101,\n",
              "        5.18388767, 5.20055434, 5.21722101, 5.23388767, 5.25055434,\n",
              "        5.26722101, 5.28388767, 5.30055434, 5.31722101, 5.33388767,\n",
              "        5.35055434, 5.36722101, 5.38388767, 5.40055434, 5.41722101,\n",
              "        5.43388767, 5.45055434, 5.46722101, 5.48388767, 5.50055434,\n",
              "        5.51722101, 5.53388767, 5.55055434, 5.56722101, 5.58388767,\n",
              "        5.60055434, 5.61722101, 5.63388767, 5.65055434, 5.66722101,\n",
              "        5.68388767, 5.70055434, 5.71722101, 5.73388767, 5.75055434,\n",
              "        5.76722101, 5.78388767, 5.80055434, 5.81722101, 5.83388767,\n",
              "        5.85055434, 5.86722101, 5.88388767, 5.90055434, 5.91722101,\n",
              "        5.93388767, 5.95055434, 5.96722101, 5.98388767, 6.00055434,\n",
              "        6.01722101, 6.03388767, 6.05055434, 6.06722101, 6.08388767,\n",
              "        6.10055434]),\n",
              " <a list of 60 Patch objects>)"
            ]
          },
          "metadata": {},
          "execution_count": 42
        },
        {
          "output_type": "display_data",
          "data": {
            "image/png": "[encoded data removed]",
            "text/plain": [
              "<Figure size 432x288 with 1 Axes>"
            ]
          },
          "metadata": {}
        }
      ]
    }
  ]
}
{
  "nbformat": 4,
  "nbformat_minor": 0,
  "metadata": {
    "colab": {
      "name": "Roll_Over_Frequency.ipynb",
      "provenance": [],
      "collapsed_sections": [],
      "authorship_tag": "ABX9TyPsy4aEh1s5vWWgGX+AplSm",
      "include_colab_link": true
    },
    "kernelspec": {
      "name": "python3",
      "display_name": "Python 3"
    },
    "language_info": {
      "name": "python"
    },
    "accelerator": "GPU"
  },
  "cells": [
    {
      "cell_type": "markdown",
      "metadata": {
        "id": "view-in-github",
        "colab_type": "text"
      },
      "source": [
        "<a href=\"https://colab.research.google.com/github/prem55gayakwad/BT_eth_sender/blob/main/Roll_Over_Frequency.ipynb\" target=\"_parent\"><img src=\"https://colab.research.google.com/assets/colab-badge.svg\" alt=\"Open In Colab\"/></a>"
      ]
    },
    {
      "cell_type": "code",
      "metadata": {
        "id": "NLPso5AMSxl6"
      },
      "source": [
        "import csv\n",
        "import pandas as pd\n",
        "import numpy as np\n",
        "import matplotlib.pyplot as plt"
      ],
      "execution_count": 1,
      "outputs": []
    },
    {
      "cell_type": "code",
      "metadata": {
        "id": "7Ql1KGFdS_HP"
      },
      "source": [
        "# Read data from file 'filename.csv' \n",
        "data = pd.read_csv(\"M.csv\")"
      ],
      "execution_count": 2,
      "outputs": []
    },
    {
      "cell_type": "code",
      "metadata": {
        "id": "pC24rJo7VTeP"
      },
      "source": [
        "import csv\n",
        "time=[]\n",
        "amp=[]\n",
        "with open('M.csv', 'r') as rf:\n",
        "    reader = csv.reader(rf, delimiter=',')\n",
        "    for row in reader:\n",
        "      time.append(row[0]) \n",
        "      amp.append(row[1])"
      ],
      "execution_count": 3,
      "outputs": []
    },
    {
      "cell_type": "code",
      "metadata": {
        "colab": {
          "base_uri": "https://localhost:8080/"
        },
        "id": "WSSyCviobXXb",
        "outputId": "a233144b-4bd7-4a42-96e2-61de316100f3"
      },
      "source": [
        "print(\"Enter Warning and Damage limit (Amplitude)\\n\")\n",
        "warn=float(input('Warning Limit (mg):'))\n",
        "danger=float(input('Danger Limit (mg):'))\n",
        "print('\\n')\n",
        "print(\"Input Rollout frequencies\\n\")\n",
        "roll_ele=float(input('Rolling Element (HZ):'))\n",
        "inner_race=float(input('Inner Race (Hz):'))\n",
        "outer_race=float(input('Outer Race (Hz):'))\n",
        "Tolerance= float(input('Tolerance (Hz):'))\n",
        "print('\\n')\n",
        "#print(\"Enter Quotient\\n\")\n",
        "#quotient=float(input('Quotien:'))\n",
        "quotient=0.762939"
      ],
      "execution_count": 4,
      "outputs": [
        {
          "output_type": "stream",
          "name": "stdout",
          "text": [
            "Enter Warning and Damage limit (Amplitude)\n",
            "\n",
            "Warning Limit (mg):35\n",
            "Danger Limit (mg):40\n",
            "\n",
            "\n",
            "Input Rollout frequencies\n",
            "\n",
            "Rolling Element (HZ):1234\n",
            "Inner Race (Hz):3245\n",
            "Outer Race (Hz):2345\n",
            "Tolerance (Hz):50\n",
            "\n",
            "\n"
          ]
        }
      ]
    },
    {
      "cell_type": "code",
      "metadata": {
        "id": "T6HIw_PFyiB2"
      },
      "source": [
        "amp_time=[float(i) for i in amp]\n",
        "time_time=[float(i) for i in time]\n",
        "time_feq = [element * quotient for element in time_time] #Multiplied time domain by HFFT Quotient : 0.762939"
      ],
      "execution_count": 5,
      "outputs": []
    },
    {
      "cell_type": "code",
      "metadata": {
        "colab": {
          "base_uri": "https://localhost:8080/",
          "height": 365
        },
        "id": "QRdS8lTcY-hi",
        "outputId": "ab54d56a-0834-453d-ddfc-6bbdd0291fb4"
      },
      "source": [
        "#Plot graph\n",
        "print('Select from below option \\n')\n",
        "print('1: Rollover Frequency of Rolling element')\n",
        "print('2: Rollover Frequency of Inner race')\n",
        "print('3: Rollover Frequency of Outer race')\n",
        "\n",
        "\n",
        "selc=int(input())\n",
        "for i in range (1,11):\n",
        "    if (selc==1):\n",
        "      plt.axvline(((roll_ele-Tolerance)*i), 0, 200, label='',color=\"red\", linestyle=\":\")\n",
        "      plt.axvline(((roll_ele+Tolerance)*i), 0, 200, label='',color=\"red\", linestyle=\":\")\n",
        "      plt.axvline(((inner_race-Tolerance)*i), 0, 200, label='',color=\"white\", linestyle=\":\")\n",
        "      plt.axvline(((inner_race+Tolerance)*i), 0, 200, label='',color=\"white\", linestyle=\":\")\n",
        "      plt.axvline(((outer_race-Tolerance)*i), 0, 200, label='',color=\"white\", linestyle=\":\")\n",
        "      plt.axvline(((outer_race+Tolerance)*i), 0, 200, label='',color=\"white\", linestyle=\":\")\n",
        "\n",
        "    if (selc==2):\n",
        "      plt.axvline(((inner_race-Tolerance)*i), 0, 200, label='',color=\"black\", linestyle=\":\")\n",
        "      plt.axvline(((inner_race+Tolerance)*i), 0, 200, label='',color=\"black\", linestyle=\":\")\n",
        "      plt.axvline(((roll_ele-Tolerance)*i), 0, 200, label='',color=\"white\", linestyle=\":\")\n",
        "      plt.axvline(((roll_ele+Tolerance)*i), 0, 200, label='',color=\"white\", linestyle=\":\")\n",
        "      plt.axvline(((outer_race-Tolerance)*i), 0, 200, label='',color=\"white\", linestyle=\":\")\n",
        "      plt.axvline(((outer_race+Tolerance)*i), 0, 200, label='',color=\"white\", linestyle=\":\")\n",
        "\n",
        "    if (selc==3):\n",
        "      plt.axvline(((outer_race-Tolerance)*i), 0, 200, label='',color=\"blue\", linestyle=\":\")\n",
        "      plt.axvline(((outer_race+Tolerance)*i), 0, 200, label='',color=\"blue\", linestyle=\":\")\n",
        "      plt.axvline(((inner_race-Tolerance)*i), 0, 200, label='',color=\"white\", linestyle=\":\")\n",
        "      plt.axvline(((inner_race+Tolerance)*i), 0, 200, label='',color=\"white\", linestyle=\":\")\n",
        "      plt.axvline(((roll_ele-Tolerance)*i), 0, 200, label='',color=\"white\", linestyle=\":\")\n",
        "      plt.axvline(((roll_ele+Tolerance)*i), 0, 200, label='',color=\"white\", linestyle=\":\")\n",
        "\n",
        "\n",
        "plt.axvline(0, 0, 0, label='Rolling element',color=\"red\", linestyle=\":\")\n",
        "plt.axvline(0, 0, 0, label='Inner Race',color=\"black\", linestyle=\":\")\n",
        "plt.axvline(0, 0, 0, label='Outer Race',color=\"blue\", linestyle=\":\")\n",
        "plt.axhline(y=warn, color=\"yellow\", linestyle=\":\")\n",
        "plt.axhline(y=danger, color=\"red\", linestyle=\":\")\n",
        "plt.plot(time_feq, amp_time)\n",
        "plt.legend()\n",
        "plt.show()"
      ],
      "execution_count": 21,
      "outputs": [
        {
          "name": "stdout",
          "output_type": "stream",
          "text": [
            "Select from below option \n",
            "\n",
            "1: Rollover Frequency of Rolling element\n",
            "2: Rollover Frequency of Inner race\n",
            "3: Rollover Frequency of Outer race\n",
            "1\n"
          ]
        },
        {
          "output_type": "display_data",
          "data": {
            "image/png": "[encoded data removed]",
            "text/plain": [
              "<Figure size 432x288 with 1 Axes>"
            ]
          },
          "metadata": {
            "needs_background": "light"
          }
        }
      ]
    },
    {
      "cell_type": "code",
      "metadata": {
        "id": "LAqaWlaGaAcy"
      },
      "source": [
        "for i in range (1,11):\n",
        " roll_min=float((roll_ele-Tolerance)*i)\n",
        " roll_max=float((roll_ele+Tolerance)*i)\n",
        " inner_min=float((inner_race-Tolerance)*i)\n",
        " inner_max=float((inner_race+Tolerance)*i)\n",
        " outer_min=float((outer_race-Tolerance)*i)\n",
        " outer_max=float((outer_race+Tolerance)*i)"
      ],
      "execution_count": 14,
      "outputs": []
    },
    {
      "cell_type": "code",
      "metadata": {
        "id": "tUdLDM2tv8Mz"
      },
      "source": [
        "for i in range (1,11):\n",
        "  roll_f_tmin=int((((roll_min/i)+(Tolerance))/(quotient)))\n",
        "  roll_f_tmax=int((((roll_max/i)-(Tolerance))/(quotient)))\n",
        "\n",
        "  inner_f_tmin=int((((inner_min/i)+(Tolerance))/(quotient)))\n",
        "  inner_f_tmax=int((((inner_max/i)-(Tolerance))/(quotient)))\n",
        "\n",
        "  outer_f_tmin=int((((outer_min/i)+(Tolerance))/(quotient)))\n",
        "  outer_f_tmax=int((((outer_max/i)-(Tolerance))/(quotient)))\n",
        "  \n",
        "  for x in amp_time[roll_f_tmin:roll_f_tmax+1] or amp_time[inner_f_tmin:inner_f_tmax+1] or amp_time[outer_f_tmin:outer_f_tmax+1]:\n",
        "        if x > warn:\n",
        "            print('Warning')\n",
        "      \n",
        "  for x in amp_time[roll_f_tmin:roll_f_tmax+1] or amp_time[inner_f_tmin:inner_f_tmax+1] or amp_time[outer_f_tmin:outer_f_tmax+1]:\n",
        "        if x > danger:\n",
        "            print('Danger')\n",
        "        \n",
        "  for x in amp_time[roll_f_tmin:roll_f_tmax+1] or amp_time[inner_f_tmin:inner_f_tmax+1] or amp_time[outer_f_tmin:outer_f_tmax+1]:\n",
        "        if x == 0:\n",
        "            print('Warning')\n",
        "     \n"
      ],
      "execution_count": 17,
      "outputs": []
    }
  ]
}